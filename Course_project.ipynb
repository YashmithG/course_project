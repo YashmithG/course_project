{
 "cells": [
  {
   "cell_type": "code",
   "execution_count": 8,
   "id": "d2227115-dbe5-4354-a53a-c4623414bef6",
   "metadata": {},
   "outputs": [],
   "source": [
    "import pandas as pd\n",
    "import numpy as np"
   ]
  },
  {
   "cell_type": "code",
   "execution_count": 20,
   "id": "da24eb58-4b28-4898-b091-9c7e04e68d55",
   "metadata": {},
   "outputs": [
    {
     "name": "stdout",
     "output_type": "stream",
     "text": [
      "   ID SystemCodeNumber  Capacity   Latitude  Longitude  Occupancy VehicleType  \\\n",
      "0   0      BHMBCCMKT01       577  26.144536  91.736172         61         car   \n",
      "1   1      BHMBCCMKT01       577  26.144536  91.736172         64         car   \n",
      "2   2      BHMBCCMKT01       577  26.144536  91.736172         80         car   \n",
      "3   3      BHMBCCMKT01       577  26.144536  91.736172        107         car   \n",
      "4   4      BHMBCCMKT01       577  26.144536  91.736172        150        bike   \n",
      "\n",
      "  TrafficConditionNearby  QueueLength  IsSpecialDay LastUpdatedDate  \\\n",
      "0                    low            1             0      04-10-2016   \n",
      "1                    low            1             0      04-10-2016   \n",
      "2                    low            2             0      04-10-2016   \n",
      "3                    low            2             0      04-10-2016   \n",
      "4                    low            2             0      04-10-2016   \n",
      "\n",
      "  LastUpdatedTime  \n",
      "0        07:59:00  \n",
      "1        08:25:00  \n",
      "2        08:59:00  \n",
      "3        09:32:00  \n",
      "4        09:59:00  \n",
      "                 ID      Capacity      Latitude     Longitude     Occupancy  \\\n",
      "count  18368.000000  18368.000000  18368.000000  18368.000000  18368.000000   \n",
      "mean    9183.500000   1605.214286     25.706547     90.751170    731.084059   \n",
      "std     5302.529208   1131.153886      1.582749      3.536636    621.164982   \n",
      "min        0.000000    387.000000     20.000035     78.000003      2.000000   \n",
      "25%     4591.750000    577.000000     26.140048     91.727995    322.000000   \n",
      "50%     9183.500000   1261.000000     26.147482     91.729511    568.000000   \n",
      "75%    13775.250000   2803.000000     26.147541     91.736172    976.000000   \n",
      "max    18367.000000   3883.000000     26.150504     91.740994   3499.000000   \n",
      "\n",
      "        QueueLength  IsSpecialDay  \n",
      "count  18368.000000  18368.000000  \n",
      "mean       4.587925      0.150915  \n",
      "std        2.580062      0.357975  \n",
      "min        0.000000      0.000000  \n",
      "25%        2.000000      0.000000  \n",
      "50%        4.000000      0.000000  \n",
      "75%        6.000000      0.000000  \n",
      "max       15.000000      1.000000  \n"
     ]
    }
   ],
   "source": [
    "data = pd.read_csv('C:/Users/Yashmith Gali/Downloads/dataset.csv')\n",
    "print(data.head())\n",
    "print(data.describe())"
   ]
  },
  {
   "cell_type": "code",
   "execution_count": 22,
   "id": "d3519dde-7801-48fa-8eb3-e8ac6d784e19",
   "metadata": {},
   "outputs": [
    {
     "data": {
      "text/plain": [
       "ID                        0\n",
       "SystemCodeNumber          0\n",
       "Capacity                  0\n",
       "Latitude                  0\n",
       "Longitude                 0\n",
       "Occupancy                 0\n",
       "VehicleType               0\n",
       "TrafficConditionNearby    0\n",
       "QueueLength               0\n",
       "IsSpecialDay              0\n",
       "LastUpdatedDate           0\n",
       "LastUpdatedTime           0\n",
       "dtype: int64"
      ]
     },
     "execution_count": 22,
     "metadata": {},
     "output_type": "execute_result"
    }
   ],
   "source": [
    "data.isnull().sum()"
   ]
  },
  {
   "cell_type": "code",
   "execution_count": 30,
   "id": "6adb0f7e-46db-4996-b2ca-0e1235b8b659",
   "metadata": {},
   "outputs": [
    {
     "name": "stdout",
     "output_type": "stream",
     "text": [
      "   ID SystemCodeNumber  Capacity   Latitude  Longitude  Occupancy VehicleType  \\\n",
      "0   0      BHMBCCMKT01       577  26.144536  91.736172         61         car   \n",
      "1   1      BHMBCCMKT01       577  26.144536  91.736172         64         car   \n",
      "2   2      BHMBCCMKT01       577  26.144536  91.736172         80         car   \n",
      "3   3      BHMBCCMKT01       577  26.144536  91.736172        107         car   \n",
      "4   4      BHMBCCMKT01       577  26.144536  91.736172        150        bike   \n",
      "\n",
      "  TrafficConditionNearby  QueueLength  IsSpecialDay LastUpdatedDate  \\\n",
      "0                    low            1             0      04-10-2016   \n",
      "1                    low            1             0      04-10-2016   \n",
      "2                    low            2             0      04-10-2016   \n",
      "3                    low            2             0      04-10-2016   \n",
      "4                    low            2             0      04-10-2016   \n",
      "\n",
      "  LastUpdatedTime  occupancy_ratio  occupancy_rolling  queue_length_norm  \\\n",
      "0        07:59:00         0.105719           0.105719           0.090909   \n",
      "1        08:25:00         0.110919           0.108319           0.090909   \n",
      "2        08:59:00         0.138648           0.118429           0.181818   \n",
      "3        09:32:00         0.185442           0.145003           0.181818   \n",
      "4        09:59:00         0.259965           0.194685           0.181818   \n",
      "\n",
      "   traffic_congestion  traffic_norm  special_day  \n",
      "0                 0.3           0.0            0  \n",
      "1                 0.3           0.0            0  \n",
      "2                 0.3           0.0            0  \n",
      "3                 0.3           0.0            0  \n",
      "4                 0.3           0.0            0  \n"
     ]
    }
   ],
   "source": [
    "data['occupancy_ratio'] = data['Occupancy'] / data['Capacity']\n",
    "data['occupancy_rolling'] = data.groupby('SystemCodeNumber')['occupancy_ratio'].transform(\n",
    "    lambda x: x.rolling(window=3, min_periods=1).mean()\n",
    ")\n",
    "\n",
    "data['queue_length_norm'] = data.groupby('SystemCodeNumber')['QueueLength'].transform(\n",
    "    lambda x: (x - x.min()) / (x.max() - x.min() + 1e-6)\n",
    ")\n",
    "\n",
    "traffic_map = {'low': 0.3, 'medium': 0.6, 'high': 1.0}\n",
    "data['traffic_congestion'] = data['TrafficConditionNearby'].map(traffic_map)\n",
    "data['traffic_norm'] = data.groupby('SystemCodeNumber')['traffic_congestion'].transform(\n",
    "    lambda x: (x - x.min()) / (x.max() - x.min() + 1e-6)\n",
    ")\n",
    "\n",
    "data['special_day'] = data['IsSpecialDay'].astype(int)\n",
    "print(data.head())"
   ]
  },
  {
   "cell_type": "code",
   "execution_count": null,
   "id": "b6ff8bad-ee1d-4dc6-9b47-8bfd7f7a2d64",
   "metadata": {},
   "outputs": [],
   "source": []
  }
 ],
 "metadata": {
  "kernelspec": {
   "display_name": "Python [conda env:base] *",
   "language": "python",
   "name": "conda-base-py"
  },
  "language_info": {
   "codemirror_mode": {
    "name": "ipython",
    "version": 3
   },
   "file_extension": ".py",
   "mimetype": "text/x-python",
   "name": "python",
   "nbconvert_exporter": "python",
   "pygments_lexer": "ipython3",
   "version": "3.12.7"
  }
 },
 "nbformat": 4,
 "nbformat_minor": 5
}
